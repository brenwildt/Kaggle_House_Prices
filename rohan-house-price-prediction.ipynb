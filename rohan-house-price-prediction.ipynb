{
 "cells": [
  {
   "cell_type": "code",
   "execution_count": null,
   "id": "fc73ae6b",
   "metadata": {
    "_cell_guid": "b1076dfc-b9ad-4769-8c92-a6c4dae69d19",
    "_uuid": "8f2839f25d086af736a60e9eeb907d3b93b6e0e5",
    "papermill": {
     "duration": 0.089955,
     "end_time": "2022-03-14T18:20:25.006998",
     "exception": false,
     "start_time": "2022-03-14T18:20:24.917043",
     "status": "completed"
    },
    "tags": []
   },
   "outputs": [],
   "source": [
    "# This Python 3 environment comes with many helpful analytics libraries installed\n",
    "# It is defined by the kaggle/python Docker image: https://github.com/kaggle/docker-python\n",
    "# For example, here's several helpful packages to load\n",
    "\n",
    "import numpy as np # linear algebra\n",
    "import pandas as pd # data processing, CSV file I/O (e.g. pd.read_csv)\n",
    "\n",
    "# Input data files are available in the read-only \"../input/\" directory\n",
    "# For example, running this (by clicking run or pressing Shift+Enter) will list all files under the input directory\n",
    "\n",
    "#import os\n",
    "#for dirname, _, filenames in os.walk('/kaggle/input'):\n",
    "    #for filename in filenames:\n",
    "        #print(os.path.join(dirname, filename))\n",
    "\n",
    "# You can write up to 20GB to the current directory (/kaggle/working/) that gets preserved as output when you create a version using \"Save & Run All\" \n",
    "# You can also write temporary files to /kaggle/temp/, but they won't be saved outside of the current session"
   ]
  },
  {
   "cell_type": "code",
   "execution_count": null,
   "id": "0f29e2cf",
   "metadata": {
    "papermill": {
     "duration": 1.374377,
     "end_time": "2022-03-14T18:20:26.450640",
     "exception": false,
     "start_time": "2022-03-14T18:20:25.076263",
     "status": "completed"
    },
    "tags": []
   },
   "outputs": [],
   "source": [
    "#load required libraries\n",
    "from sklearn.model_selection import train_test_split\n",
    "import matplotlib.pyplot as plt\n",
    "import seaborn as sns\n",
    "%matplotlib inline\n",
    "\n",
    "import warnings\n",
    "warnings.filterwarnings('ignore')\n",
    "\n",
    "pd.pandas.set_option('display.max_columns',None)"
   ]
  },
  {
   "cell_type": "markdown",
   "id": "9224b8b7",
   "metadata": {
    "papermill": {
     "duration": 0.069934,
     "end_time": "2022-03-14T18:20:26.590353",
     "exception": false,
     "start_time": "2022-03-14T18:20:26.520419",
     "status": "completed"
    },
    "tags": []
   },
   "source": [
    "# Load Data"
   ]
  },
  {
   "cell_type": "code",
   "execution_count": null,
   "id": "91a1f55e",
   "metadata": {
    "papermill": {
     "duration": 0.177853,
     "end_time": "2022-03-14T18:20:26.839517",
     "exception": false,
     "start_time": "2022-03-14T18:20:26.661664",
     "status": "completed"
    },
    "tags": []
   },
   "outputs": [],
   "source": [
    "df_train=pd.read_csv('train.csv')\n",
    "df_train.head()"
   ]
  },
  {
   "cell_type": "code",
   "execution_count": null,
   "id": "76b41d0f",
   "metadata": {
    "papermill": {
     "duration": 0.166111,
     "end_time": "2022-03-14T18:20:27.075917",
     "exception": false,
     "start_time": "2022-03-14T18:20:26.909806",
     "status": "completed"
    },
    "tags": []
   },
   "outputs": [],
   "source": [
    "df_test=pd.read_csv('test.csv')\n",
    "df_test.head()"
   ]
  },
  {
   "cell_type": "code",
   "execution_count": null,
   "id": "6dffde9f",
   "metadata": {
    "papermill": {
     "duration": 0.078608,
     "end_time": "2022-03-14T18:20:27.225314",
     "exception": false,
     "start_time": "2022-03-14T18:20:27.146706",
     "status": "completed"
    },
    "tags": []
   },
   "outputs": [],
   "source": [
    "df_train.shape, df_test.shape"
   ]
  },
  {
   "cell_type": "markdown",
   "id": "43407b5c",
   "metadata": {
    "papermill": {
     "duration": 0.071858,
     "end_time": "2022-03-14T18:20:27.369765",
     "exception": false,
     "start_time": "2022-03-14T18:20:27.297907",
     "status": "completed"
    },
    "tags": []
   },
   "source": [
    "**Train** data has 1460 rows and 81 columns AND **Test** data has 1459 rows and 80 columns"
   ]
  },
  {
   "cell_type": "markdown",
   "id": "8120f455",
   "metadata": {
    "papermill": {
     "duration": 0.071462,
     "end_time": "2022-03-14T18:20:27.518321",
     "exception": false,
     "start_time": "2022-03-14T18:20:27.446859",
     "status": "completed"
    },
    "tags": []
   },
   "source": [
    "# Data Cleaning"
   ]
  },
  {
   "cell_type": "code",
   "execution_count": null,
   "id": "2c93e00d",
   "metadata": {
    "papermill": {
     "duration": 0.079358,
     "end_time": "2022-03-14T18:20:27.668163",
     "exception": false,
     "start_time": "2022-03-14T18:20:27.588805",
     "status": "completed"
    },
    "tags": []
   },
   "outputs": [],
   "source": [
    "#Function to get count of missing values in each column\n",
    "def get_cols_with_missing_values(DataFrame):\n",
    "    missing_na_columns=(DataFrame.isnull().sum())\n",
    "    return missing_na_columns[missing_na_columns > 0]"
   ]
  },
  {
   "cell_type": "code",
   "execution_count": null,
   "id": "7d555557",
   "metadata": {
    "papermill": {
     "duration": 0.090583,
     "end_time": "2022-03-14T18:20:27.829812",
     "exception": false,
     "start_time": "2022-03-14T18:20:27.739229",
     "status": "completed"
    },
    "tags": []
   },
   "outputs": [],
   "source": [
    "#Missing values in train data\n",
    "feature_with_na = get_cols_with_missing_values(df_train)\n",
    "print(feature_with_na)"
   ]
  },
  {
   "cell_type": "markdown",
   "id": "f2a060c6",
   "metadata": {
    "papermill": {
     "duration": 0.070839,
     "end_time": "2022-03-14T18:20:27.973168",
     "exception": false,
     "start_time": "2022-03-14T18:20:27.902329",
     "status": "completed"
    },
    "tags": []
   },
   "source": [
    "**Observation**: Target feature 'SalePrice' has no missing value"
   ]
  },
  {
   "cell_type": "code",
   "execution_count": null,
   "id": "0afb362c",
   "metadata": {
    "papermill": {
     "duration": 0.090561,
     "end_time": "2022-03-14T18:20:28.136446",
     "exception": false,
     "start_time": "2022-03-14T18:20:28.045885",
     "status": "completed"
    },
    "tags": []
   },
   "outputs": [],
   "source": [
    "#Missing values in test data\n",
    "feature_with_na = get_cols_with_missing_values(df_test)\n",
    "print(feature_with_na)"
   ]
  },
  {
   "cell_type": "code",
   "execution_count": null,
   "id": "c44b50ad",
   "metadata": {
    "papermill": {
     "duration": 0.34823,
     "end_time": "2022-03-14T18:20:28.557190",
     "exception": false,
     "start_time": "2022-03-14T18:20:28.208960",
     "status": "completed"
    },
    "tags": []
   },
   "outputs": [],
   "source": [
    "#distribution of values in target feature\n",
    "sns.distplot(df_train.get(\"SalePrice\"), kde=False)\n",
    "plt.show()"
   ]
  },
  {
   "cell_type": "markdown",
   "id": "34b8466d",
   "metadata": {
    "papermill": {
     "duration": 0.07464,
     "end_time": "2022-03-14T18:20:28.706812",
     "exception": false,
     "start_time": "2022-03-14T18:20:28.632172",
     "status": "completed"
    },
    "tags": []
   },
   "source": [
    "**Observation**: The dependent feature 'SalePrice' is right skewed"
   ]
  },
  {
   "cell_type": "code",
   "execution_count": null,
   "id": "2cf5619d",
   "metadata": {
    "papermill": {
     "duration": 8.720547,
     "end_time": "2022-03-14T18:20:37.499756",
     "exception": false,
     "start_time": "2022-03-14T18:20:28.779209",
     "status": "completed"
    },
    "tags": []
   },
   "outputs": [],
   "source": [
    "# find outliers for all the numerical dataset (before handling missing values)\n",
    "numerical_df = df_train.select_dtypes(exclude=['object'])\n",
    "numerical_df = numerical_df.drop([\"Id\"], axis=1)\n",
    "for column in numerical_df:\n",
    "    plt.figure(figsize=(16, 4))\n",
    "    sns.set_theme(style=\"whitegrid\")\n",
    "    sns.boxplot(numerical_df[column])"
   ]
  },
  {
   "cell_type": "code",
   "execution_count": null,
   "id": "f1b85397",
   "metadata": {
    "papermill": {
     "duration": 0.113684,
     "end_time": "2022-03-14T18:20:37.717627",
     "exception": false,
     "start_time": "2022-03-14T18:20:37.603943",
     "status": "completed"
    },
    "tags": []
   },
   "outputs": [],
   "source": [
    "#features present in train data that are not present in test data\n",
    "feature_train_not_test = [col for col in df_train.columns if col not in df_test.columns and col != 'SalePrice']\n",
    "print(feature_train_not_test)"
   ]
  },
  {
   "cell_type": "code",
   "execution_count": null,
   "id": "2e37a4ab",
   "metadata": {
    "papermill": {
     "duration": 0.115071,
     "end_time": "2022-03-14T18:20:37.935020",
     "exception": false,
     "start_time": "2022-03-14T18:20:37.819949",
     "status": "completed"
    },
    "tags": []
   },
   "outputs": [],
   "source": [
    "#features present in test data that are not present in train data\n",
    "feature_test_not_train = [col for col in df_test.columns if col not in df_train.columns]\n",
    "print(feature_test_not_train)"
   ]
  },
  {
   "cell_type": "markdown",
   "id": "11d339ac",
   "metadata": {
    "papermill": {
     "duration": 0.106261,
     "end_time": "2022-03-14T18:20:38.148491",
     "exception": false,
     "start_time": "2022-03-14T18:20:38.042230",
     "status": "completed"
    },
    "tags": []
   },
   "source": [
    "**Observation**: Train and Test data have the exact same features (not considering the target feature 'SalePrice')"
   ]
  },
  {
   "cell_type": "code",
   "execution_count": null,
   "id": "f6619404",
   "metadata": {
    "papermill": {
     "duration": 0.197316,
     "end_time": "2022-03-14T18:20:38.456904",
     "exception": false,
     "start_time": "2022-03-14T18:20:38.259588",
     "status": "completed"
    },
    "tags": []
   },
   "outputs": [],
   "source": [
    "#combine train and test data for data preprocessing\n",
    "df_merge=pd.concat([df_test.assign(ind=\"test\"), df_train.assign(ind=\"train\")])\n",
    "df_merge.head()"
   ]
  },
  {
   "cell_type": "code",
   "execution_count": null,
   "id": "c5fbf90c",
   "metadata": {
    "papermill": {
     "duration": 0.153316,
     "end_time": "2022-03-14T18:20:38.716918",
     "exception": false,
     "start_time": "2022-03-14T18:20:38.563602",
     "status": "completed"
    },
    "tags": []
   },
   "outputs": [],
   "source": [
    "df_merge.info()"
   ]
  },
  {
   "cell_type": "markdown",
   "id": "8e808dd1",
   "metadata": {
    "papermill": {
     "duration": 0.105421,
     "end_time": "2022-03-14T18:20:38.927243",
     "exception": false,
     "start_time": "2022-03-14T18:20:38.821822",
     "status": "completed"
    },
    "tags": []
   },
   "source": [
    "## Impute missing Categorical features"
   ]
  },
  {
   "cell_type": "code",
   "execution_count": null,
   "id": "9735a572",
   "metadata": {
    "papermill": {
     "duration": 0.118818,
     "end_time": "2022-03-14T18:20:39.150731",
     "exception": false,
     "start_time": "2022-03-14T18:20:39.031913",
     "status": "completed"
    },
    "tags": []
   },
   "outputs": [],
   "source": [
    "#Get a list of all the categorical features that have the keyword 'Qual' OR 'Cond' OR 'Qu' OR 'QC' in the feature name\n",
    "feature_rating_Qual = [col for col in df_merge.columns if 'Qual' in col and df_merge[col].dtypes=='object']\n",
    "feature_rating_Cond = [col for col in df_merge.columns if 'Cond' in col and col not in ['Condition1', 'Condition2', 'SaleCondition'] and df_merge[col].dtypes=='object']\n",
    "feature_rating_Qu = [col for col in df_merge.columns if 'Qu' in col and df_merge[col].dtypes=='object' and col not in feature_rating_Qual]\n",
    "feature_rating_QC = [col for col in df_merge.columns if 'QC' in col and df_merge[col].dtypes=='object']\n",
    "\n",
    "cat_feature_with_rating = feature_rating_Qual + feature_rating_Cond + feature_rating_Qu + feature_rating_QC\n",
    "\n",
    "for x in cat_feature_with_rating:\n",
    "    print(x)"
   ]
  },
  {
   "cell_type": "code",
   "execution_count": null,
   "id": "cc26d1eb",
   "metadata": {
    "papermill": {
     "duration": 0.130107,
     "end_time": "2022-03-14T18:20:39.386279",
     "exception": false,
     "start_time": "2022-03-14T18:20:39.256172",
     "status": "completed"
    },
    "tags": []
   },
   "outputs": [],
   "source": [
    "#Categorical features who have NA as a correct value\n",
    "cat_feature_with_legit_na = ['Alley', 'BsmtExposure', 'BsmtFinType1', 'BsmtFinType2', 'GarageType', 'GarageFinish', 'Fence', 'MiscFeature']\n",
    "df_merge[cat_feature_with_legit_na].head()"
   ]
  },
  {
   "cell_type": "code",
   "execution_count": null,
   "id": "bf34135a",
   "metadata": {
    "papermill": {
     "duration": 0.130736,
     "end_time": "2022-03-14T18:20:39.622350",
     "exception": false,
     "start_time": "2022-03-14T18:20:39.491614",
     "status": "completed"
    },
    "tags": []
   },
   "outputs": [],
   "source": [
    "ordinal_cat_features = cat_feature_with_rating + cat_feature_with_legit_na\n",
    "df_merge[ordinal_cat_features].head()"
   ]
  },
  {
   "cell_type": "code",
   "execution_count": null,
   "id": "cba31a88",
   "metadata": {
    "papermill": {
     "duration": 0.141364,
     "end_time": "2022-03-14T18:20:39.868568",
     "exception": false,
     "start_time": "2022-03-14T18:20:39.727204",
     "status": "completed"
    },
    "tags": []
   },
   "outputs": [],
   "source": [
    "#On checking the data description, Missing is valid in some categorical\n",
    "#Handling Missing Values in Ordinal Categorical features by replacing them with 'Missing' keyword\n",
    "df_merge[ordinal_cat_features] = df_merge[ordinal_cat_features].fillna(\"Missing\")\n",
    "\n",
    "#Making sure the missing values have been handled\n",
    "print(get_cols_with_missing_values(df_merge[ordinal_cat_features]))"
   ]
  },
  {
   "cell_type": "code",
   "execution_count": null,
   "id": "b840bf55",
   "metadata": {
    "papermill": {
     "duration": 0.127966,
     "end_time": "2022-03-14T18:20:40.103808",
     "exception": false,
     "start_time": "2022-03-14T18:20:39.975842",
     "status": "completed"
    },
    "tags": []
   },
   "outputs": [],
   "source": [
    "#Get categorical and numerical columns\n",
    "categorical_cols=[cname for cname in df_merge.columns if df_merge[cname].dtypes=='object' and cname!='ind']\n",
    "remaining_cat_cols = [cname for cname in categorical_cols if cname not in ordinal_cat_features]\n",
    "\n",
    "numerical_cols=[cname for cname in df_merge.columns if df_merge[cname].dtypes!='object' and cname!='SalePrice']"
   ]
  },
  {
   "cell_type": "code",
   "execution_count": null,
   "id": "45f5b141",
   "metadata": {
    "papermill": {
     "duration": 0.148349,
     "end_time": "2022-03-14T18:20:40.360319",
     "exception": false,
     "start_time": "2022-03-14T18:20:40.211970",
     "status": "completed"
    },
    "tags": []
   },
   "outputs": [],
   "source": [
    "df_merge[remaining_cat_cols].head()"
   ]
  },
  {
   "cell_type": "code",
   "execution_count": null,
   "id": "009dd961",
   "metadata": {
    "papermill": {
     "duration": 0.173033,
     "end_time": "2022-03-14T18:20:40.646953",
     "exception": false,
     "start_time": "2022-03-14T18:20:40.473920",
     "status": "completed"
    },
    "tags": []
   },
   "outputs": [],
   "source": [
    "#Handling Missing Values in Categorical features by replacing them with the feature mode value\n",
    "for col in remaining_cat_cols:\n",
    "    df_merge[col] = df_merge[col].fillna(df_merge[col].mode()[0])  \n",
    "\n",
    "\n",
    "#Making sure the missing values have been handled\n",
    "print(get_cols_with_missing_values(df_merge[remaining_cat_cols]))"
   ]
  },
  {
   "cell_type": "markdown",
   "id": "abc4ff85",
   "metadata": {
    "papermill": {
     "duration": 0.114865,
     "end_time": "2022-03-14T18:20:40.874575",
     "exception": false,
     "start_time": "2022-03-14T18:20:40.759710",
     "status": "completed"
    },
    "tags": []
   },
   "source": [
    "## Impute missing Numerical features"
   ]
  },
  {
   "cell_type": "code",
   "execution_count": null,
   "id": "19c2be0f",
   "metadata": {
    "papermill": {
     "duration": 0.133792,
     "end_time": "2022-03-14T18:20:41.119509",
     "exception": false,
     "start_time": "2022-03-14T18:20:40.985717",
     "status": "completed"
    },
    "tags": []
   },
   "outputs": [],
   "source": [
    "#Handling Missing Values in Numerical features by replacing them with Mean value\n",
    "df_merge[numerical_cols]=df_merge[numerical_cols].fillna(df_merge[numerical_cols].mean())\n",
    "\n",
    "#Making sure the missing values have been handled\n",
    "print(get_cols_with_missing_values(df_merge[numerical_cols]))"
   ]
  },
  {
   "cell_type": "code",
   "execution_count": null,
   "id": "e95379b9",
   "metadata": {
    "papermill": {
     "duration": 0.149949,
     "end_time": "2022-03-14T18:20:41.377706",
     "exception": false,
     "start_time": "2022-03-14T18:20:41.227757",
     "status": "completed"
    },
    "tags": []
   },
   "outputs": [],
   "source": [
    "#Select categorical columns with low cardinality\n",
    "categorical_cols=[cname for cname in df_merge.columns if df_merge[cname].dtypes=='object' and df_merge[cname].nunique()<10]\n",
    "numerical_cols=[cname for cname in df_merge.columns if df_merge[cname].dtypes!='object']\n",
    "\n",
    "# Keep selected columns only\n",
    "my_cols = numerical_cols + categorical_cols\n",
    "df_merge_clean = df_merge[my_cols].copy()"
   ]
  },
  {
   "cell_type": "code",
   "execution_count": null,
   "id": "3c8d7045",
   "metadata": {
    "papermill": {
     "duration": 0.137178,
     "end_time": "2022-03-14T18:20:41.626773",
     "exception": false,
     "start_time": "2022-03-14T18:20:41.489595",
     "status": "completed"
    },
    "tags": []
   },
   "outputs": [],
   "source": [
    "print(get_cols_with_missing_values(df_merge_clean))"
   ]
  },
  {
   "cell_type": "code",
   "execution_count": null,
   "id": "7ad71723",
   "metadata": {
    "papermill": {
     "duration": 0.183758,
     "end_time": "2022-03-14T18:20:41.926621",
     "exception": false,
     "start_time": "2022-03-14T18:20:41.742863",
     "status": "completed"
    },
    "tags": []
   },
   "outputs": [],
   "source": [
    "df_merge_clean.head()"
   ]
  },
  {
   "cell_type": "markdown",
   "id": "a586a476",
   "metadata": {
    "papermill": {
     "duration": 0.108048,
     "end_time": "2022-03-14T18:20:42.146456",
     "exception": false,
     "start_time": "2022-03-14T18:20:42.038408",
     "status": "completed"
    },
    "tags": []
   },
   "source": [
    "# Feature Engineering"
   ]
  },
  {
   "cell_type": "code",
   "execution_count": null,
   "id": "7210eeff",
   "metadata": {
    "papermill": {
     "duration": 0.121296,
     "end_time": "2022-03-14T18:20:42.387238",
     "exception": false,
     "start_time": "2022-03-14T18:20:42.265942",
     "status": "completed"
    },
    "tags": []
   },
   "outputs": [],
   "source": [
    "#Drop 'Id' feature\n",
    "df_merge_clean.drop('Id', axis=1, inplace=True)"
   ]
  },
  {
   "cell_type": "code",
   "execution_count": null,
   "id": "72088441",
   "metadata": {
    "papermill": {
     "duration": 0.13939,
     "end_time": "2022-03-14T18:20:42.643218",
     "exception": false,
     "start_time": "2022-03-14T18:20:42.503828",
     "status": "completed"
    },
    "tags": []
   },
   "outputs": [],
   "source": [
    "#Handling years\n",
    "df_merge_clean['GarageYrBlt'] = df_merge_clean['GarageYrBlt'].astype('int')\n",
    "df_merge_clean['GarageYrBlt'] = df_merge_clean['YrSold'] - df_merge_clean['GarageYrBlt']\n",
    "\n",
    "df_merge_clean['YearBuilt'] = df_merge_clean['YrSold'] - df_merge_clean['YearBuilt']\n",
    "\n",
    "df_merge_clean['YearRemodAdd'] = df_merge_clean['YrSold'] - df_merge_clean['YearRemodAdd']\n",
    "\n",
    "df_merge_clean.drop([\"YrSold\"], axis=1, inplace=True)\n",
    "df_merge_clean.drop([\"MoSold\"], axis=1, inplace=True)"
   ]
  },
  {
   "cell_type": "code",
   "execution_count": null,
   "id": "c160a84e",
   "metadata": {
    "papermill": {
     "duration": 0.131567,
     "end_time": "2022-03-14T18:20:42.888295",
     "exception": false,
     "start_time": "2022-03-14T18:20:42.756728",
     "status": "completed"
    },
    "tags": []
   },
   "outputs": [],
   "source": [
    "#TotalBsmtSF(Total square feet of basement area) = BsmtFinSF1(Type 1 finished square feet) + BsmtFinSF2(Type 2 finished square feet) + BsmtUnfSF(Unfinished square feet of basement area)\n",
    "df_merge_clean.drop([\"TotalBsmtSF\"], axis=1, inplace=True)\n",
    "\n",
    "#Basement finished area\n",
    "df_merge_clean['BsmtFinSF'] = df_merge_clean['BsmtFinSF1'] + df_merge_clean['BsmtFinSF2']\n",
    "df_merge_clean.drop([\"BsmtFinSF1\"], axis=1, inplace=True)\n",
    "df_merge_clean.drop([\"BsmtFinSF2\"], axis=1, inplace=True)"
   ]
  },
  {
   "cell_type": "code",
   "execution_count": null,
   "id": "b2b0bbad",
   "metadata": {
    "papermill": {
     "duration": 0.127035,
     "end_time": "2022-03-14T18:20:43.124978",
     "exception": false,
     "start_time": "2022-03-14T18:20:42.997943",
     "status": "completed"
    },
    "tags": []
   },
   "outputs": [],
   "source": [
    "#Total floor square feet\n",
    "df_merge_clean['TotalFlrSF'] = df_merge_clean['1stFlrSF'] + df_merge_clean['2ndFlrSF']\n",
    "df_merge_clean.drop([\"1stFlrSF\"], axis=1, inplace=True)\n",
    "df_merge_clean.drop([\"2ndFlrSF\"], axis=1, inplace=True)"
   ]
  },
  {
   "cell_type": "code",
   "execution_count": null,
   "id": "22b85f37",
   "metadata": {
    "papermill": {
     "duration": 0.130862,
     "end_time": "2022-03-14T18:20:43.365467",
     "exception": false,
     "start_time": "2022-03-14T18:20:43.234605",
     "status": "completed"
    },
    "tags": []
   },
   "outputs": [],
   "source": [
    "#Total Bathrooms\n",
    "df_merge_clean['Total_Bath'] = (df_merge_clean['FullBath'] + (0.5*df_merge_clean['HalfBath']) + df_merge_clean['BsmtFullBath'] + (0.5*df_merge_clean['BsmtHalfBath']))\n",
    "df_merge_clean.drop([\"FullBath\"], axis=1, inplace=True)\n",
    "df_merge_clean.drop([\"HalfBath\"], axis=1, inplace=True)\n",
    "df_merge_clean.drop([\"BsmtFullBath\"], axis=1, inplace=True)\n",
    "df_merge_clean.drop([\"BsmtHalfBath\"], axis=1, inplace=True)"
   ]
  },
  {
   "cell_type": "markdown",
   "id": "d7e0b66a",
   "metadata": {
    "papermill": {
     "duration": 0.110681,
     "end_time": "2022-03-14T18:20:43.593782",
     "exception": false,
     "start_time": "2022-03-14T18:20:43.483101",
     "status": "completed"
    },
    "tags": []
   },
   "source": [
    "# Feature Transformation"
   ]
  },
  {
   "cell_type": "code",
   "execution_count": null,
   "id": "2cb39b6d",
   "metadata": {
    "papermill": {
     "duration": 0.14995,
     "end_time": "2022-03-14T18:20:43.852784",
     "exception": false,
     "start_time": "2022-03-14T18:20:43.702834",
     "status": "completed"
    },
    "tags": []
   },
   "outputs": [],
   "source": [
    "#Perform log normal distribution on the skewed nuerical features\n",
    "import scipy.stats\n",
    "\n",
    "numerical_cols = [cname for cname in df_merge_clean.columns if df_merge_clean[cname].dtypes!='object' and cname!='SalePrice']\n",
    "\n",
    "skew_df = pd.DataFrame(numerical_cols, columns=['Feature'])\n",
    "skew_df['Skew'] = skew_df['Feature'].apply(lambda feature: scipy.stats.skew(df_merge_clean[feature]))\n",
    "skew_df['Absolute Skew'] = skew_df['Skew'].apply(abs)\n",
    "skew_df['Skewed'] = skew_df['Absolute Skew'].apply(lambda x: True if x >= 0.5 else False)\n",
    "skew_df"
   ]
  },
  {
   "cell_type": "code",
   "execution_count": null,
   "id": "04009909",
   "metadata": {
    "papermill": {
     "duration": 0.204289,
     "end_time": "2022-03-14T18:20:44.170075",
     "exception": false,
     "start_time": "2022-03-14T18:20:43.965786",
     "status": "completed"
    },
    "tags": []
   },
   "outputs": [],
   "source": [
    "df_merge_clean[numerical_cols].describe()"
   ]
  },
  {
   "cell_type": "markdown",
   "id": "f15a05a0",
   "metadata": {
    "papermill": {
     "duration": 0.111727,
     "end_time": "2022-03-14T18:20:44.391879",
     "exception": false,
     "start_time": "2022-03-14T18:20:44.280152",
     "status": "completed"
    },
    "tags": []
   },
   "source": [
    "**Observation**: The minimum value for few numerical features in 0. So we cannot apply log transformation, as the log(0) is infinity. So we will apply **lop1p** transformation"
   ]
  },
  {
   "cell_type": "code",
   "execution_count": null,
   "id": "88f4a197",
   "metadata": {
    "papermill": {
     "duration": 0.143097,
     "end_time": "2022-03-14T18:20:44.646975",
     "exception": false,
     "start_time": "2022-03-14T18:20:44.503878",
     "status": "completed"
    },
    "tags": []
   },
   "outputs": [],
   "source": [
    "for column in skew_df.query(\"Skewed == True\")['Feature'].values:\n",
    "    df_merge_clean[column] = np.log1p(df_merge_clean[column])"
   ]
  },
  {
   "cell_type": "markdown",
   "id": "9fead70c",
   "metadata": {
    "papermill": {
     "duration": 0.113411,
     "end_time": "2022-03-14T18:20:44.872512",
     "exception": false,
     "start_time": "2022-03-14T18:20:44.759101",
     "status": "completed"
    },
    "tags": []
   },
   "source": [
    "# Encode Categorical features"
   ]
  },
  {
   "cell_type": "markdown",
   "id": "53c80a93",
   "metadata": {
    "papermill": {
     "duration": 0.114961,
     "end_time": "2022-03-14T18:20:45.105395",
     "exception": false,
     "start_time": "2022-03-14T18:20:44.990434",
     "status": "completed"
    },
    "tags": []
   },
   "source": [
    "In data description, the values given for 'OverallQual' feature are as follows- 10:Very Excellent ,9:Excellent ,8:Very Good ,7:Good ,6:Above Average ,5:Average ,4:Below Average ,3:Fair ,2:Poor ,1:Very Poor\n",
    "\n",
    "So we will try to convert categorical features having qualities as per the above example"
   ]
  },
  {
   "cell_type": "code",
   "execution_count": null,
   "id": "87e72614",
   "metadata": {
    "papermill": {
     "duration": 0.140029,
     "end_time": "2022-03-14T18:20:45.360922",
     "exception": false,
     "start_time": "2022-03-14T18:20:45.220893",
     "status": "completed"
    },
    "tags": []
   },
   "outputs": [],
   "source": [
    "#Before encoding - features with rating\n",
    "df_merge_clean[cat_feature_with_rating]"
   ]
  },
  {
   "cell_type": "code",
   "execution_count": null,
   "id": "453580d7",
   "metadata": {
    "papermill": {
     "duration": 0.154149,
     "end_time": "2022-03-14T18:20:45.627919",
     "exception": false,
     "start_time": "2022-03-14T18:20:45.473770",
     "status": "completed"
    },
    "tags": []
   },
   "outputs": [],
   "source": [
    "for col in cat_feature_with_rating:\n",
    "    if 'Missing' in df_merge_clean[col].value_counts().index:\n",
    "        df_merge_clean[col] = df_merge_clean[col].map({\"Missing\":0,\"Po\":1,\"Fa\":2,\"TA\":3,\"Gd\":4,\"Ex\":5})\n",
    "    else:\n",
    "        df_merge_clean[col] = df_merge_clean[col].map({\"Po\":1,\"Fa\":2,\"TA\":3,\"Gd\":4,\"Ex\":5})"
   ]
  },
  {
   "cell_type": "code",
   "execution_count": null,
   "id": "60d885ae",
   "metadata": {
    "papermill": {
     "duration": 0.140004,
     "end_time": "2022-03-14T18:20:45.916992",
     "exception": false,
     "start_time": "2022-03-14T18:20:45.776988",
     "status": "completed"
    },
    "tags": []
   },
   "outputs": [],
   "source": [
    "#After encoding - features with rating\n",
    "df_merge_clean[cat_feature_with_rating]"
   ]
  },
  {
   "cell_type": "code",
   "execution_count": null,
   "id": "d49d2f66",
   "metadata": {
    "papermill": {
     "duration": 0.138089,
     "end_time": "2022-03-14T18:20:46.168852",
     "exception": false,
     "start_time": "2022-03-14T18:20:46.030763",
     "status": "completed"
    },
    "tags": []
   },
   "outputs": [],
   "source": [
    "#features with legit na\n",
    "df_merge_clean[cat_feature_with_legit_na]"
   ]
  },
  {
   "cell_type": "code",
   "execution_count": null,
   "id": "a563d734",
   "metadata": {
    "papermill": {
     "duration": 0.137892,
     "end_time": "2022-03-14T18:20:46.419914",
     "exception": false,
     "start_time": "2022-03-14T18:20:46.282022",
     "status": "completed"
    },
    "tags": []
   },
   "outputs": [],
   "source": [
    "#Exclude 'Alley', MiscFeature' and 'GarageType' feature as they are not ordinal\n",
    "df_merge_clean['BsmtExposure'] = df_merge_clean['BsmtExposure'].map({\"Missing\":0,\"No\":1,\"Mn\":2,\"Av\":3,\"Gd\":4}).astype('int')\n",
    "df_merge_clean['BsmtFinType1'] = df_merge_clean['BsmtFinType1'].map({\"Missing\":0,\"Unf\":1,\"LwQ\":2,\"Rec\":3,\"BLQ\":4,\"ALQ\":5,\"GLQ\":6}).astype('int')\n",
    "df_merge_clean['BsmtFinType2'] = df_merge_clean['BsmtFinType2'].map({\"Missing\":0,\"Unf\":1,\"LwQ\":2,\"Rec\":3,\"BLQ\":4,\"ALQ\":5,\"GLQ\":6}).astype('int')\n",
    "df_merge_clean['GarageFinish'] = df_merge_clean['GarageFinish'].map({\"Missing\":0,\"Unf\":1,\"RFn\":2,\"Fin\":3}).astype('int')\n",
    "df_merge_clean['Fence'] = df_merge_clean['Fence'].map({\"Missing\":0,\"MnWw\":1,\"GdWo\":2,\"MnPrv\":3,\"GdPrv\":4}).astype('int')"
   ]
  },
  {
   "cell_type": "code",
   "execution_count": null,
   "id": "44eaab4e",
   "metadata": {
    "papermill": {
     "duration": 0.138612,
     "end_time": "2022-03-14T18:20:46.671951",
     "exception": false,
     "start_time": "2022-03-14T18:20:46.533339",
     "status": "completed"
    },
    "tags": []
   },
   "outputs": [],
   "source": [
    "#There are few other features where rank can be applied\n",
    "df_merge_clean['LotShape'] = df_merge_clean['LotShape'].map({\"IR3\":1,\"IR2\":2,\"IR1\":3,\"Reg\":4}).astype('int')\n",
    "df_merge_clean['LandContour'] = df_merge_clean['LandContour'].map({\"Low\":1,\"Bnk\":2,\"HLS\":3,\"Lvl\":4}).astype('int')\n",
    "df_merge_clean['Utilities'] = df_merge_clean['Utilities'].map({\"ELO\":1,\"NoSeWa\":2,\"NoSewr\":3,\"AllPub\":4}).astype('int')\n",
    "df_merge_clean['LandSlope'] = df_merge_clean['LandSlope'].map({\"Sev\":1,\"Mod\":2,\"Gtl\":3}).astype('int')\n",
    "df_merge_clean['CentralAir'] = df_merge_clean['CentralAir'].map({\"N\":0,\"Y\":1}).astype('int')\n",
    "df_merge_clean['PavedDrive'] = df_merge_clean['PavedDrive'].map({\"N\":0,\"P\":1,\"Y\":2}).astype('int')"
   ]
  },
  {
   "cell_type": "code",
   "execution_count": null,
   "id": "f5291fcb",
   "metadata": {
    "papermill": {
     "duration": 0.125369,
     "end_time": "2022-03-14T18:20:46.911047",
     "exception": false,
     "start_time": "2022-03-14T18:20:46.785678",
     "status": "completed"
    },
    "tags": []
   },
   "outputs": [],
   "source": [
    "#Categorical features remaining to be encoded\n",
    "cat_remaining_to_encode = [col for col in df_merge_clean.columns if df_merge_clean[col].dtypes=='object' and col !='ind']\n",
    "\n",
    "print(cat_remaining_to_encode)"
   ]
  },
  {
   "cell_type": "code",
   "execution_count": null,
   "id": "68a2446c",
   "metadata": {
    "papermill": {
     "duration": 0.159495,
     "end_time": "2022-03-14T18:20:47.186511",
     "exception": false,
     "start_time": "2022-03-14T18:20:47.027016",
     "status": "completed"
    },
    "tags": []
   },
   "outputs": [],
   "source": [
    "df_merge_clean_dummies = pd.get_dummies(df_merge_clean[cat_remaining_to_encode],drop_first=True)\n",
    "\n",
    "df_merge_clean.drop(cat_remaining_to_encode,axis=1,inplace=True)\n",
    "\n",
    "df_merge_clean = pd.concat([df_merge_clean,df_merge_clean_dummies],axis=1)"
   ]
  },
  {
   "cell_type": "code",
   "execution_count": null,
   "id": "44e8f477-0015-4d94-8135-3fc92cb3d0c2",
   "metadata": {},
   "outputs": [],
   "source": [
    "columns_with_infinite_values = []\n",
    "\n",
    "# Only check columns with numeric data types\n",
    "numeric_columns = df_merge_clean.select_dtypes(include=[np.number]).columns\n",
    "\n",
    "for column in numeric_columns:\n",
    "    if np.isinf(df_merge_clean[column]).any():\n",
    "        columns_with_infinite_values.append(column)\n",
    "\n",
    "# Display columns that have infinite values\n",
    "print(\"Columns with infinite values:\", columns_with_infinite_values)"
   ]
  },
  {
   "cell_type": "code",
   "execution_count": null,
   "id": "53b4a067-8c58-4f5d-b502-67b93405fc59",
   "metadata": {},
   "outputs": [],
   "source": [
    "print(df_merge_clean['YearBuilt'].unique())"
   ]
  },
  {
   "cell_type": "code",
   "execution_count": null,
   "id": "97466fbe-d046-42be-a78a-f82369881384",
   "metadata": {},
   "outputs": [],
   "source": [
    "# Calculate the mean excluding infinities\n",
    "mean_year_built = df_merge_clean['YearBuilt'].replace([np.inf, -np.inf], np.nan).mean()\n",
    "\n",
    "# Replace infinite values with the mean\n",
    "df_merge_clean['YearBuilt'] = df_merge_clean['YearBuilt'].replace([np.inf, -np.inf], mean_year_built)"
   ]
  },
  {
   "cell_type": "code",
   "execution_count": null,
   "id": "9b6c2d06-1b03-4879-9987-a81509df5b9c",
   "metadata": {},
   "outputs": [],
   "source": [
    "df_merge_clean.columns"
   ]
  },
  {
   "cell_type": "code",
   "execution_count": null,
   "id": "685ce9d0-1f6b-4676-9136-ebd0889876b5",
   "metadata": {},
   "outputs": [],
   "source": [
    "columns_to_include = [col for col in df_merge_clean if col != 'ind']\n",
    "\n",
    "#Correlation Matrix \n",
    "corr_matrix = df_merge_clean[columns_to_include].corr()\n",
    "\n",
    "plt.figure(figsize=(30,30))\n",
    "sns.heatmap(corr_matrix, annot=True, cmap='coolwarm', vmin=-1, vmax=1)\n",
    "plt.title('Heatmap of Numeric Features')\n",
    "plt.show"
   ]
  },
  {
   "cell_type": "code",
   "execution_count": null,
   "id": "3d562100-6c8d-4d5d-9b32-3b0f8701d361",
   "metadata": {},
   "outputs": [],
   "source": [
    "# Assuming your DataFrame is named df_merge_clean and the correlation matrix is stored in correlation_matrix\n",
    "\n",
    "# Extract correlations with SalePrice and drop the SalePrice self-correlation\n",
    "saleprice_correlations = corr_matrix['SalePrice'].drop('SalePrice')\n",
    "\n",
    "# Sort the correlations by their absolute values in descending order\n",
    "sorted_correlations = saleprice_correlations.abs().sort_values(ascending=False)\n",
    "\n",
    "# Filter for high correlations based on a threshold, e.g., 0.5\n",
    "high_correlations = sorted_correlations[sorted_correlations >= 0.5]\n",
    "\n",
    "print(\"Features highly correlated with SalePrice:\\n\", high_correlations)"
   ]
  },
  {
   "cell_type": "code",
   "execution_count": null,
   "id": "8e425327-e4b7-4f7b-957d-93fa4a5c9ccf",
   "metadata": {},
   "outputs": [],
   "source": [
    "high_corr_features = corr_matrix.index[abs(corr_matrix['SalePrice'])>0.5]\n",
    "\n",
    "df_high_corr = df_merge_clean[high_corr_features]\n",
    "\n",
    "df_high_corr.head()"
   ]
  },
  {
   "cell_type": "markdown",
   "id": "f8b09d8c",
   "metadata": {
    "execution": {
     "iopub.execute_input": "2022-03-14T16:48:19.913248Z",
     "iopub.status.busy": "2022-03-14T16:48:19.912957Z",
     "iopub.status.idle": "2022-03-14T16:48:19.928625Z",
     "shell.execute_reply": "2022-03-14T16:48:19.927569Z",
     "shell.execute_reply.started": "2022-03-14T16:48:19.913214Z"
    },
    "papermill": {
     "duration": 0.115401,
     "end_time": "2022-03-14T18:20:47.421380",
     "exception": false,
     "start_time": "2022-03-14T18:20:47.305979",
     "status": "completed"
    },
    "tags": []
   },
   "source": [
    "# Feature Scaling "
   ]
  },
  {
   "cell_type": "code",
   "execution_count": null,
   "id": "aa3b500c",
   "metadata": {
    "papermill": {
     "duration": 0.126447,
     "end_time": "2022-03-14T18:20:47.664794",
     "exception": false,
     "start_time": "2022-03-14T18:20:47.538347",
     "status": "completed"
    },
    "tags": []
   },
   "outputs": [],
   "source": [
    "from sklearn.preprocessing import StandardScaler\n",
    "scaler = StandardScaler()\n",
    "\n",
    "features_to_be_scaled = [col for col in df_merge_clean.columns if col not in ['SalePrice', 'ind']]\n",
    "scaler.fit(df_merge_clean[features_to_be_scaled])\n",
    "\n",
    "df_merge_clean[features_to_be_scaled] = pd.DataFrame(scaler.transform(df_merge_clean[features_to_be_scaled]), index=df_merge_clean[features_to_be_scaled].index, columns=df_merge_clean[features_to_be_scaled].columns)"
   ]
  },
  {
   "cell_type": "markdown",
   "id": "915ed254",
   "metadata": {
    "papermill": {
     "duration": 0.117391,
     "end_time": "2022-03-14T18:20:47.905802",
     "exception": false,
     "start_time": "2022-03-14T18:20:47.788411",
     "status": "completed"
    },
    "tags": []
   },
   "source": [
    "# Split Train and Test data"
   ]
  },
  {
   "cell_type": "code",
   "execution_count": null,
   "id": "9e1ee78f",
   "metadata": {
    "papermill": {
     "duration": 0.136213,
     "end_time": "2022-03-14T18:20:48.156330",
     "exception": false,
     "start_time": "2022-03-14T18:20:48.020117",
     "status": "completed"
    },
    "tags": []
   },
   "outputs": [],
   "source": [
    "test, train= df_merge_clean[df_merge_clean[\"ind\"].eq(\"test\")], df_merge_clean[df_merge_clean[\"ind\"].eq(\"train\")]\n",
    "test.drop([\"SalePrice\", \"ind\"], axis=1, inplace=True)\n",
    "train.drop([\"ind\"], axis=1, inplace=True)"
   ]
  },
  {
   "cell_type": "code",
   "execution_count": null,
   "id": "222c661f",
   "metadata": {
    "papermill": {
     "duration": 0.127017,
     "end_time": "2022-03-14T18:20:48.398347",
     "exception": false,
     "start_time": "2022-03-14T18:20:48.271330",
     "status": "completed"
    },
    "tags": []
   },
   "outputs": [],
   "source": [
    "log_target = np.log(train['SalePrice'])\n",
    "train.drop([\"SalePrice\"], axis=1, inplace=True)"
   ]
  },
  {
   "cell_type": "code",
   "execution_count": null,
   "id": "0185decb",
   "metadata": {
    "papermill": {
     "duration": 0.123688,
     "end_time": "2022-03-14T18:20:48.637804",
     "exception": false,
     "start_time": "2022-03-14T18:20:48.514116",
     "status": "completed"
    },
    "tags": []
   },
   "outputs": [],
   "source": [
    "train.shape, test.shape"
   ]
  },
  {
   "cell_type": "code",
   "execution_count": null,
   "id": "ea9752ad",
   "metadata": {
    "papermill": {
     "duration": 0.12447,
     "end_time": "2022-03-14T18:20:48.877108",
     "exception": false,
     "start_time": "2022-03-14T18:20:48.752638",
     "status": "completed"
    },
    "tags": []
   },
   "outputs": [],
   "source": [
    "X = train.loc[:, train.columns!='SalePrice']\n",
    "y = df_train['SalePrice']\n",
    "#TARGET feature encoding\n",
    "y = np.log(df_train.SalePrice)\n",
    "\n",
    "# Break off validation set from training data\n",
    "X_train, X_valid, y_train, y_valid = train_test_split(X, y, train_size=0.7, test_size=0.3, random_state=0)\n",
    "\n",
    "# summarize\n",
    "print('Train', X_train.shape, y_train.shape)\n",
    "print('Validation', X_valid.shape, y_valid.shape)"
   ]
  },
  {
   "cell_type": "markdown",
   "id": "8c4dc1c5",
   "metadata": {
    "papermill": {
     "duration": 0.123476,
     "end_time": "2022-03-14T18:20:49.115466",
     "exception": false,
     "start_time": "2022-03-14T18:20:48.991990",
     "status": "completed"
    },
    "tags": []
   },
   "source": [
    "# Build Model"
   ]
  },
  {
   "cell_type": "code",
   "execution_count": null,
   "id": "574e9240",
   "metadata": {
    "papermill": {
     "duration": 0.1265,
     "end_time": "2022-03-14T18:20:49.359017",
     "exception": false,
     "start_time": "2022-03-14T18:20:49.232517",
     "status": "completed"
    },
    "tags": []
   },
   "outputs": [],
   "source": [
    "'''from xgboost import XGBRegressor\n",
    "from sklearn.model_selection import RandomizedSearchCV\n",
    "\n",
    "# A parameter grid for XGBoost\n",
    "params = {\n",
    "    'n_estimators':[100,200,400,600,800,900,1000],\n",
    "    'learning_rate':[0.05,0.1,0.15],\n",
    "    'min_child_weight':[i for i in range(1,5)], \n",
    "    'gamma':[0.1*i for i in range(1,10)],  \n",
    "    'subsample':[0.1*i for i in range(6,11)],\n",
    "    'colsample_bytree':[0.1*i for i in range(6,11)], \n",
    "    'max_depth': [2,3,4,6,7],\n",
    "    'objective': ['reg:squarederror', 'reg:tweedie'],\n",
    "    'booster': ['gbtree', 'gblinear'],\n",
    "    'eval_metric': ['rmse'],\n",
    "}\n",
    "\n",
    "regressor = XGBRegressor()\n",
    "#RandomizedSearchCV\n",
    "random_search = RandomizedSearchCV(regressor, param_distributions=params,n_iter=5, n_jobs=-1, cv=5, scoring='neg_mean_squared_error')\n",
    "\n",
    "random_search.fit(X_train, y_train)'''"
   ]
  },
  {
   "cell_type": "code",
   "execution_count": null,
   "id": "57acafaf",
   "metadata": {
    "papermill": {
     "duration": 0.134706,
     "end_time": "2022-03-14T18:20:49.612603",
     "exception": false,
     "start_time": "2022-03-14T18:20:49.477897",
     "status": "completed"
    },
    "tags": []
   },
   "outputs": [],
   "source": [
    "'''best_regressor = random_search.best_estimator_\n",
    "print(best_regressor)'''"
   ]
  },
  {
   "cell_type": "markdown",
   "id": "50140898",
   "metadata": {
    "papermill": {
     "duration": 0.119881,
     "end_time": "2022-03-14T18:20:49.849648",
     "exception": false,
     "start_time": "2022-03-14T18:20:49.729767",
     "status": "completed"
    },
    "tags": []
   },
   "source": [
    "## Bagging Ensemble"
   ]
  },
  {
   "cell_type": "code",
   "execution_count": null,
   "id": "11b11c4f",
   "metadata": {
    "papermill": {
     "duration": 0.418715,
     "end_time": "2022-03-14T18:20:50.389431",
     "exception": false,
     "start_time": "2022-03-14T18:20:49.970716",
     "status": "completed"
    },
    "tags": []
   },
   "outputs": [],
   "source": [
    "#from xgboost import XGBRegressor\n",
    "import catboost as cb\n",
    "import optuna\n",
    "from sklearn.metrics import mean_squared_error"
   ]
  },
  {
   "cell_type": "code",
   "execution_count": null,
   "id": "d4e946db-5bb4-4e17-90d4-a263ed0258cd",
   "metadata": {},
   "outputs": [],
   "source": [
    "def objective(trial):\n",
    "    params = {\n",
    "        \"iterations\": 1000,\n",
    "        \"learning_rate\": trial.suggest_float(\"learning_rate\", 1e-3, 0.1, log=True),\n",
    "        \"depth\": trial.suggest_int(\"depth\", 1, 10),\n",
    "        \"subsample\": trial.suggest_float(\"subsample\", 0.05, 1.0),\n",
    "        \"colsample_bylevel\": trial.suggest_float(\"colsample_bylevel\", 0.05, 1.0),\n",
    "        \"min_data_in_leaf\": trial.suggest_int(\"min_data_in_leaf\", 1, 100),\n",
    "    }\n",
    "\n",
    "    model = cb.CatBoostRegressor(**params, silent=True)\n",
    "    model.fit(X_train, y_train)\n",
    "    predictions = model.predict(X_valid)\n",
    "    rmse = mean_squared_error(y_valid, predictions, squared=False)\n",
    "    return rmse"
   ]
  },
  {
   "cell_type": "code",
   "execution_count": null,
   "id": "6b1fa06e-0949-436e-a940-0cd1b24738b2",
   "metadata": {},
   "outputs": [],
   "source": [
    "study = optuna.create_study(direction='minimize')\n",
    "study.optimize(objective, n_trials=30)"
   ]
  },
  {
   "cell_type": "code",
   "execution_count": null,
   "id": "9718b9f6-1d3c-418f-83bc-78e233932370",
   "metadata": {},
   "outputs": [],
   "source": [
    "print('Best hyperparameters:', study.best_params)\n",
    "print('Best RMSE:', study.best_value)"
   ]
  },
  {
   "cell_type": "code",
   "execution_count": null,
   "id": "091274d0",
   "metadata": {
    "papermill": {
     "duration": 0.125854,
     "end_time": "2022-03-14T18:20:50.633670",
     "exception": false,
     "start_time": "2022-03-14T18:20:50.507816",
     "status": "completed"
    },
    "tags": []
   },
   "outputs": [],
   "source": [
    "catboost_params = {\n",
    "    'iterations': 5000,\n",
    "    'learning_rate': 0.02,\n",
    "    'depth': 4,\n",
    "    'eval_metric':'RMSE',\n",
    "    'early_stopping_rounds': 20\n",
    "}\n",
    "\n",
    "xgboost_params = {\n",
    "    'n_estimators': 5000,\n",
    "    'learning_rate': 0.02,\n",
    "    'colsample_bytree': 0.5,\n",
    "    'subsample': 0.5,\n",
    "    'min_child_weight': 2,\n",
    "    'early_stopping_rounds': 20   \n",
    "}"
   ]
  },
  {
   "cell_type": "code",
   "execution_count": null,
   "id": "ec9f6b31",
   "metadata": {
    "papermill": {
     "duration": 0.133938,
     "end_time": "2022-03-14T18:20:50.886846",
     "exception": false,
     "start_time": "2022-03-14T18:20:50.752908",
     "status": "completed"
    },
    "tags": []
   },
   "outputs": [],
   "source": [
    "models = {\n",
    "    \"catboost\": CatBoostRegressor(**catboost_params, verbose=0),\n",
    "    \"xgb\": XGBRegressor(**xgboost_params, verbose=0)\n",
    "}"
   ]
  },
  {
   "cell_type": "code",
   "execution_count": null,
   "id": "fab26ce3",
   "metadata": {
    "papermill": {
     "duration": 39.812885,
     "end_time": "2022-03-14T18:21:30.827045",
     "exception": false,
     "start_time": "2022-03-14T18:20:51.014160",
     "status": "completed"
    },
    "tags": []
   },
   "outputs": [],
   "source": [
    "for name, model in models.items():\n",
    "    model.fit(train, log_target)\n",
    "    print(name + \" trained.\")"
   ]
  },
  {
   "cell_type": "code",
   "execution_count": null,
   "id": "97ceabd3",
   "metadata": {
    "papermill": {
     "duration": 377.427903,
     "end_time": "2022-03-14T18:27:48.371646",
     "exception": false,
     "start_time": "2022-03-14T18:21:30.943743",
     "status": "completed"
    },
    "tags": []
   },
   "outputs": [],
   "source": [
    "from sklearn.model_selection import KFold, cross_val_score\n",
    "results = {}\n",
    "\n",
    "kf = KFold(n_splits=10)\n",
    "\n",
    "for name, model in models.items():\n",
    "    result = np.exp(np.sqrt(-cross_val_score(model, train, log_target, scoring='neg_mean_squared_error', cv=kf)))\n",
    "    results[name] = result"
   ]
  },
  {
   "cell_type": "code",
   "execution_count": null,
   "id": "090d0b4f",
   "metadata": {
    "papermill": {
     "duration": 0.130464,
     "end_time": "2022-03-14T18:27:48.625881",
     "exception": false,
     "start_time": "2022-03-14T18:27:48.495417",
     "status": "completed"
    },
    "tags": []
   },
   "outputs": [],
   "source": [
    "for name, result in results.items():\n",
    "    print(\"----------\\n\" + name)\n",
    "    print(np.mean(result))\n",
    "    print(np.std(result))"
   ]
  },
  {
   "cell_type": "code",
   "execution_count": null,
   "id": "78de01c0",
   "metadata": {
    "papermill": {
     "duration": 0.257339,
     "end_time": "2022-03-14T18:27:49.005606",
     "exception": false,
     "start_time": "2022-03-14T18:27:48.748267",
     "status": "completed"
    },
    "tags": []
   },
   "outputs": [],
   "source": [
    "from sklearn.metrics import mean_absolute_error\n",
    "#Combine predictions\n",
    "final_predictions = (\n",
    "    0.5 * np.exp(models['catboost'].predict(test)) +\n",
    "    0.5 * np.exp(models['xgb'].predict(test))\n",
    ")"
   ]
  },
  {
   "cell_type": "code",
   "execution_count": null,
   "id": "f953310d",
   "metadata": {
    "papermill": {
     "duration": 0.120526,
     "end_time": "2022-03-14T18:27:49.248816",
     "exception": false,
     "start_time": "2022-03-14T18:27:49.128290",
     "status": "completed"
    },
    "tags": []
   },
   "outputs": [],
   "source": []
  },
  {
   "cell_type": "code",
   "execution_count": null,
   "id": "cfc90980",
   "metadata": {
    "papermill": {
     "duration": 0.130512,
     "end_time": "2022-03-14T18:27:49.501341",
     "exception": false,
     "start_time": "2022-03-14T18:27:49.370829",
     "status": "completed"
    },
    "tags": []
   },
   "outputs": [],
   "source": [
    "'''# Calculate MAE\n",
    "from sklearn.metrics import mean_absolute_error\n",
    "\n",
    "y_pred = model.predict(X_valid)\n",
    "rmse_pred = mean_absolute_error(y_valid, y_pred) \n",
    "print(\"Root Mean Absolute Error:\" , np.sqrt(rmse_pred))'''"
   ]
  },
  {
   "cell_type": "code",
   "execution_count": null,
   "id": "c05d7023",
   "metadata": {
    "papermill": {
     "duration": 0.132816,
     "end_time": "2022-03-14T18:27:49.756453",
     "exception": false,
     "start_time": "2022-03-14T18:27:49.623637",
     "status": "completed"
    },
    "tags": []
   },
   "outputs": [],
   "source": [
    "'''# Get test predictions\n",
    "preds_test = model.predict(test)\n",
    "\n",
    "final_predictions = np.exp(preds_test)'''"
   ]
  },
  {
   "cell_type": "code",
   "execution_count": null,
   "id": "3d187dc5",
   "metadata": {
    "papermill": {
     "duration": 0.1412,
     "end_time": "2022-03-14T18:27:50.022486",
     "exception": false,
     "start_time": "2022-03-14T18:27:49.881286",
     "status": "completed"
    },
    "tags": []
   },
   "outputs": [],
   "source": [
    "# Save test predictions to file\n",
    "output = pd.DataFrame({'Id': test.index+1461,\n",
    "                       'SalePrice': final_predictions})\n",
    "output.to_csv('submission.csv', index=False)"
   ]
  }
 ],
 "metadata": {
  "kernelspec": {
   "display_name": "Python 3 (ipykernel)",
   "language": "python",
   "name": "python3"
  },
  "language_info": {
   "codemirror_mode": {
    "name": "ipython",
    "version": 3
   },
   "file_extension": ".py",
   "mimetype": "text/x-python",
   "name": "python",
   "nbconvert_exporter": "python",
   "pygments_lexer": "ipython3",
   "version": "3.11.4"
  },
  "papermill": {
   "default_parameters": {},
   "duration": 456.492671,
   "end_time": "2022-03-14T18:27:51.063266",
   "environment_variables": {},
   "exception": null,
   "input_path": "__notebook__.ipynb",
   "output_path": "__notebook__.ipynb",
   "parameters": {},
   "start_time": "2022-03-14T18:20:14.570595",
   "version": "2.3.3"
  }
 },
 "nbformat": 4,
 "nbformat_minor": 5
}
